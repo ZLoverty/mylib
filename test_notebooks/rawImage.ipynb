{
 "cells": [
  {
   "cell_type": "code",
   "execution_count": 1,
   "id": "b6eabf26-8334-4878-97a4-ac2f9a45a7da",
   "metadata": {},
   "outputs": [],
   "source": [
    "from myImageLib import *"
   ]
  },
  {
   "cell_type": "code",
   "execution_count": 2,
   "id": "98fc1cb3-4a5e-48e9-853f-6d67ab0b6d4f",
   "metadata": {},
   "outputs": [],
   "source": [
    "nd2Dir = r\"C:\\Users\\liuzy\\Documents\\test1-1\\exp.nd2\"\n",
    "nd2 = rawImage(nd2Dir)"
   ]
  },
  {
   "cell_type": "code",
   "execution_count": 9,
   "id": "b54588a3-82e4-42d4-90dc-5e9a5ec19aa9",
   "metadata": {},
   "outputs": [
    {
     "data": {
      "text/plain": [
       "source file: C:\\Users\\liuzy\\Documents\\test1-1\\exp.nd2\n",
       "image shape: (30, 1120, 1628)"
      ]
     },
     "execution_count": 9,
     "metadata": {},
     "output_type": "execute_result"
    }
   ],
   "source": [
    "# an informative repr string\n",
    "nd2"
   ]
  },
  {
   "cell_type": "code",
   "execution_count": 5,
   "id": "17cbe45e-a366-4aec-ba35-4955900d0d43",
   "metadata": {},
   "outputs": [
    {
     "name": "stdout",
     "output_type": "stream",
     "text": [
      "File size 0.1 GB, Disk size 431.0 GB\n",
      "23.2 frame/s [############################################################] 100.0%\r"
     ]
    }
   ],
   "source": [
    "# test extract_tif()\n",
    "nd2.extract_tif()"
   ]
  },
  {
   "cell_type": "code",
   "execution_count": null,
   "id": "59969dd8-18b9-46e8-97e4-39793d0a6d1c",
   "metadata": {},
   "outputs": [],
   "source": []
  }
 ],
 "metadata": {
  "kernelspec": {
   "display_name": "Python 3 (ipykernel)",
   "language": "python",
   "name": "python3"
  },
  "language_info": {
   "codemirror_mode": {
    "name": "ipython",
    "version": 3
   },
   "file_extension": ".py",
   "mimetype": "text/x-python",
   "name": "python",
   "nbconvert_exporter": "python",
   "pygments_lexer": "ipython3",
   "version": "3.9.12"
  }
 },
 "nbformat": 4,
 "nbformat_minor": 5
}
